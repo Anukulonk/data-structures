{
 "cells": [
  {
   "cell_type": "code",
   "execution_count": 25,
   "id": "95c0a03f",
   "metadata": {},
   "outputs": [
    {
     "name": "stdout",
     "output_type": "stream",
     "text": [
      "รหัสนักศึกษา :674245011\n",
      "ชื่อ : อนุกูล นามสกุล : อ้นคำ\n",
      "เบอร์โทรศัพท์ : 096-386-0240\n"
     ]
    }
   ],
   "source": [
    "a = {\n",
    "    \"std_id\": \"674245011\",\n",
    "    \"fname\" : \"อนุกูล\",\n",
    "    \"lname\" : \"อ้นคำ\",\n",
    "    \"phone\" : \"096-386-0240\",\n",
    "    \"gender\": \"men\",\n",
    "    \"major\" : \"computer science\",\n",
    "}\n",
    "\n",
    "b = {\n",
    "    \"std_id\": \"674245012\",\n",
    "    \"fname\" : \"สมหญิง\",\n",
    "    \"lname\" : \"ชาญสมอน\",\n",
    "    \"phone\" : \"096-386-0241\",\n",
    "    \"gender\": \"women\",\n",
    "    \"major\" : \"computer science\",\n",
    "}\n",
    "print(\"รหัสนักศึกษา :\" + a['std_id'])\n",
    "print(\"ชื่อ : \" + a['fname']+ \" นามสกุล : \" + a['lname'])\n",
    "print(\"เบอร์โทรศัพท์ : \" + a['phone'])"
   ]
  },
  {
   "cell_type": "code",
   "execution_count": null,
   "id": "c38fefbb",
   "metadata": {},
   "outputs": [
    {
     "name": "stdout",
     "output_type": "stream",
     "text": [
      "รหัสนักศึกษา : 003\n",
      "ชื่อ : ยุ้ย นามสกุล : ญาติเยอะ\n",
      "เบอร์โทรศัพท์ : 0975856421\n",
      "เพศ : หญิง\n",
      "สาขา : ดารา\n"
     ]
    }
   ],
   "source": [
    "################################## INPUT ##################################\n",
    "input1 = input(\"std_id : \")\n",
    "input2 = input(\"fname : \")\n",
    "input3 = input(\"lname : \")\n",
    "input4 = input(\"phone : \")\n",
    "input5 = input(\"gender : \")\n",
    "input6 = input(\"major : \")\n",
    "\n",
    "################################## Storage ##################################\n",
    "a = [{\n",
    "    \"std_id\": input1,\n",
    "    \"fname\" : input2,\n",
    "    \"lname\" : input3,\n",
    "    \"phone\" : input4,\n",
    "    \"gender\": input5,\n",
    "    \"major\" : input6,\n",
    "}]\n",
    "\n",
    "################################## Display ##################################\n",
    "print(\"รหัสนักศึกษา : \" + a[0]['std_id'])\n",
    "print(\"ชื่อ : \" + a[0]['fname']+ \" นามสกุล : \" + a[0]['lname'])\n",
    "print(\"เบอร์โทรศัพท์ : \" + a[0]['phone'])\n",
    "print(\"เพศ : \" + a[0]['gender'])\n",
    "print(\"สาขา : \" + a[0]['major'])"
   ]
  },
  {
   "cell_type": "code",
   "execution_count": null,
   "id": "8733cd6a",
   "metadata": {},
   "outputs": [
    {
     "name": "stdout",
     "output_type": "stream",
     "text": [
      "--------------------- MAIN PROGRAM ---------------------\n",
      "---------------- พิมพ์ a รับข้อมูลใหม่,พิมพ์ q ออกจากโปรแกรม ----------------\n",
      "--------------------- MAIN PROGRAM ---------------------\n",
      "---------------- พิมพ์ a รับข้อมูลใหม่,พิมพ์ q ออกจากโปรแกรม ----------------\n",
      "--------------------- MAIN PROGRAM ---------------------\n",
      "---------------- พิมพ์ a รับข้อมูลใหม่,พิมพ์ q ออกจากโปรแกรม ----------------\n"
     ]
    }
   ],
   "source": [
    "student = []\n",
    "loop = True\n",
    "\n",
    "while loop:\n",
    "    \n",
    "    ################################## LOOP INPUT ##################################\n",
    "    input1 = input(\"std_id : \")\n",
    "    input2 = input(\"fname : \")\n",
    "    input3 = input(\"lname : \")\n",
    "    input4 = input(\"phone : \")\n",
    "    input5 = input(\"gender : \")\n",
    "    input6 = input(\"major : \")\n",
    "    data = {\n",
    "    \"std_id\": input1,\n",
    "    \"fname\" : input2,\n",
    "    \"lname\" : input3,\n",
    "    \"phone\" : input4,\n",
    "    \"gender\": input5,\n",
    "    \"major\" : input6,\n",
    "    }\n",
    "    ## add data to student ##\n",
    "    student.append(data) ## Storage\n",
    "\n",
    "    print(\"-------------------------- MAIN PROGRAM ----------------------------\")\n",
    "    print(\"---------------- พิมพ์ a รับข้อมูลใหม่,พิมพ์ q ออกจากโปรแกรม ----------------\")\n",
    "    inp_check = input(\"พิมพ์ a หรือ พิมพ์ q\")\n",
    "    \n",
    "    if inp_check == \"a\":\n",
    "        loop = True\n",
    "    elif inp_check == \"p\":\n",
    "        print(\"จำนวนขอมูล\", len(student))\n",
    "        i = 0\n",
    "        j = len(student)\n",
    "        for i in range(j):\n",
    "            print(student[i])\n",
    "    else:\n",
    "        loop = False"
   ]
  },
  {
   "cell_type": "code",
   "execution_count": 50,
   "id": "e4dc7725",
   "metadata": {},
   "outputs": [
    {
     "name": "stdout",
     "output_type": "stream",
     "text": [
      "จำนวนขอมูล 3\n",
      "{'std_id': '1', 'fname': '1', 'lname': '1', 'phone': '1', 'gender': '1', 'major': '1'}\n",
      "{'std_id': '1', 'fname': '2', 'lname': '2', 'phone': '2', 'gender': '2', 'major': '2'}\n",
      "{'std_id': '3', 'fname': '3', 'lname': '3', 'phone': '3', 'gender': '3', 'major': '3'}\n"
     ]
    }
   ],
   "source": [
    "print(\"จำนวนขอมูล\", len(student))\n",
    "\n",
    "i = 0\n",
    "j = len(student)\n",
    "for i in range(j):\n",
    "    print(student[i])"
   ]
  }
 ],
 "metadata": {
  "kernelspec": {
   "display_name": "base",
   "language": "python",
   "name": "python3"
  },
  "language_info": {
   "codemirror_mode": {
    "name": "ipython",
    "version": 3
   },
   "file_extension": ".py",
   "mimetype": "text/x-python",
   "name": "python",
   "nbconvert_exporter": "python",
   "pygments_lexer": "ipython3",
   "version": "3.13.5"
  }
 },
 "nbformat": 4,
 "nbformat_minor": 5
}
