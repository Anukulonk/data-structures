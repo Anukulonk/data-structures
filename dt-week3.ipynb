{
 "cells": [
  {
   "cell_type": "code",
   "execution_count": 70,
   "id": "0e98ec5e",
   "metadata": {},
   "outputs": [
    {
     "name": "stdout",
     "output_type": "stream",
     "text": [
      "14\n"
     ]
    }
   ],
   "source": [
    "#Find data\n",
    "text = \"เจ๊หงส์เป็นชาวจีนสาวสองน่ารักอบอุ่น\"\n",
    "position = text.find(\"จีน\")\n",
    "print(position)"
   ]
  },
  {
   "cell_type": "code",
   "execution_count": 72,
   "id": "c03046d8",
   "metadata": {},
   "outputs": [
    {
     "name": "stdout",
     "output_type": "stream",
     "text": [
      "['ฉันชอบกินKFCซึ่งมีหลายเมนูเช่นลาบไก่ป็อปและอื่นๆ']\n"
     ]
    }
   ],
   "source": [
    "#split\n",
    "text = \"ฉันชอบกินKFCซึ่งมีหลายเมนูเช่นลาบไก่ป็อปและอื่นๆ\"\n",
    "words = text.split()\n",
    "print(words)"
   ]
  },
  {
   "cell_type": "code",
   "execution_count": 71,
   "id": "07f2a7c6",
   "metadata": {},
   "outputs": [
    {
     "name": "stdout",
     "output_type": "stream",
     "text": [
      "['ฉันชอบกิน KFC ', 'ซึ่งมีหลายเมนู เช่น ลาบ ไก่ป็อป', ' และอื่นๆ']\n"
     ]
    }
   ],
   "source": [
    "#split\n",
    "text = \"ฉันชอบกิน KFC ;ซึ่งมีหลายเมนู เช่น ลาบ ไก่ป็อป; และอื่นๆ\"\n",
    "words = text.split(\";\")\n",
    "print(words)"
   ]
  },
  {
   "cell_type": "code",
   "execution_count": null,
   "id": "0dbdf821",
   "metadata": {},
   "outputs": [
    {
     "name": "stdout",
     "output_type": "stream",
     "text": [
      "แมววิ่ง แมวกระโดด แมววิ่งหนี แมวโดนไล่ หมาวิ่งไล่แมว\n",
      "CATวิ่ง CATกระโดด CATวิ่งหนี CATโดนไล่ หมาวิ่งไล่CAT\n"
     ]
    }
   ],
   "source": [
    "#Replace Finction\n",
    "text = \"แมววิ่ง แมวกระโดด แมววิ่งหนี แมวโดนไล่ หมาวิ่งไล่แมว\"\n",
    "new_text = text.replace(\"แมว\", \"CAT\")\n",
    "print(text)\n",
    "print(new_text)"
   ]
  },
  {
   "cell_type": "code",
   "execution_count": 31,
   "id": "d4d25cec",
   "metadata": {},
   "outputs": [
    {
     "name": "stdout",
     "output_type": "stream",
     "text": [
      "8\n",
      "4\n",
      "<class 'str'>\n",
      "<class 'list'>\n",
      "<class 'set'>\n",
      "<class 'dict'>\n"
     ]
    }
   ],
   "source": [
    "#Len Finction\n",
    "text = \"แมว หมา \"\n",
    "print(len(text))\n",
    "\n",
    "words1 = [\"หมา\", \"แมว\", \"เสือ\", \"สิงโต\"]\n",
    "words2 = {\"หมา\", \"แมว\", \"เสือ\", \"สิงโต\"}\n",
    "words3 = {\"key\":\"data-type\", \"value\":1}\n",
    "print(len(words))\n",
    "\n",
    "print(type(text))\n",
    "print(type(words1))\n",
    "print(type(words2))\n",
    "print(type(words3))"
   ]
  },
  {
   "cell_type": "code",
   "execution_count": 33,
   "id": "7051da1c",
   "metadata": {},
   "outputs": [
    {
     "name": "stdout",
     "output_type": "stream",
     "text": [
      "you never work alone\n"
     ]
    }
   ],
   "source": [
    "#Lower\n",
    "text = \"You Never Work Alone\"\n",
    "print(text.lower())"
   ]
  },
  {
   "cell_type": "code",
   "execution_count": 32,
   "id": "fbddee45",
   "metadata": {},
   "outputs": [
    {
     "name": "stdout",
     "output_type": "stream",
     "text": [
      "YOU NEVER WORK ALONE\n"
     ]
    }
   ],
   "source": [
    "#Upper\n",
    "text = \"You Never Work Alone\"\n",
    "print(text.upper())"
   ]
  },
  {
   "cell_type": "code",
   "execution_count": 39,
   "id": "d5117680",
   "metadata": {},
   "outputs": [
    {
     "name": "stdout",
     "output_type": "stream",
     "text": [
      "เก่า =>  76\n",
      "ใหม่ =>  71\n"
     ]
    }
   ],
   "source": [
    "#Strip\n",
    "text = \"  >>>> วันนี้วันดี ที่เราได้มาพบกัน วันนี้วันดี วันจันทร์ มีตลาดมืดนะ !!!   \"\n",
    "new_text = text.strip()\n",
    "print(\"เก่า => \", len(text))\n",
    "print(\"ใหม่ => \", len(new_text))"
   ]
  },
  {
   "cell_type": "code",
   "execution_count": 69,
   "id": "ac5a0d9e",
   "metadata": {},
   "outputs": [
    {
     "name": "stdout",
     "output_type": "stream",
     "text": [
      "ข้อความที่พิมพ์เข้ามามีจำนวน :  25 ตัวอักษร\n",
      "คำว่า  กิน ปรากฏทั้งหมด 4 คำ\n",
      "คำว่า  กิน อยู่ในตำแหน่งที่ [4, 15, 19, 22]\n",
      "ตัวอักษรมีทั้งหมด (ไม่รวมเว้นวรรค) :  22\n"
     ]
    }
   ],
   "source": [
    "from collections import Counter\n",
    "\n",
    "text1 = input(\"กรอกข้อความที่ต้องการ\")\n",
    "print(\"ข้อความที่พิมพ์เข้ามามีจำนวน : \" ,len(text1) ,\"ตัวอักษร\")\n",
    "\n",
    "word = input(\"กรอกคำที่ต้องการค้นหา: \")\n",
    "count = text1.count(word)\n",
    "print(\"คำว่า \" ,word ,\"ปรากฏทั้งหมด\" ,count ,\"คำ\")\n",
    "\n",
    "position = []\n",
    "index = text1.find(word)\n",
    "while index != -1:\n",
    "    position.append(index)\n",
    "    index = text1.find(word, index + 1)\n",
    "print(\"คำว่า \" ,word ,\"อยู่ในตำแหน่งที่\" ,position)\n",
    "\n",
    "\n",
    "print(\"ตัวอักษรมีทั้งหมด (ไม่รวมเว้นวรรค) : \" ,len(text1.replace(\" \", \"\")))"
   ]
  }
 ],
 "metadata": {
  "kernelspec": {
   "display_name": "base",
   "language": "python",
   "name": "python3"
  },
  "language_info": {
   "codemirror_mode": {
    "name": "ipython",
    "version": 3
   },
   "file_extension": ".py",
   "mimetype": "text/x-python",
   "name": "python",
   "nbconvert_exporter": "python",
   "pygments_lexer": "ipython3",
   "version": "3.13.5"
  }
 },
 "nbformat": 4,
 "nbformat_minor": 5
}
